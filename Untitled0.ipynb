{
  "nbformat": 4,
  "nbformat_minor": 0,
  "metadata": {
    "colab": {
      "provenance": []
    },
    "kernelspec": {
      "name": "python3",
      "display_name": "Python 3"
    },
    "language_info": {
      "name": "python"
    }
  },
  "cells": [
    {
      "cell_type": "code",
      "execution_count": 1,
      "metadata": {
        "colab": {
          "base_uri": "https://localhost:8080/"
        },
        "id": "AuJxRNFMJaCD",
        "outputId": "b75f43f0-c4ac-4b38-8864-86ed918e6de7"
      },
      "outputs": [
        {
          "output_type": "stream",
          "name": "stdout",
          "text": [
            "Time Step 1:\n",
            "  Forget Gate: 0.6225\n",
            "  Input Gate: 0.6457\n",
            "  Candidate Cell: 0.6044\n",
            "  Cell State: 0.3902\n",
            "  Output Gate: 0.6900\n",
            "  Hidden State: 0.2564\n",
            "\n",
            "Time Step 2:\n",
            "  Forget Gate: 0.7361\n",
            "  Input Gate: 0.7775\n",
            "  Candidate Cell: 0.9009\n",
            "  Cell State: 0.9877\n",
            "  Output Gate: 0.8459\n",
            "  Hidden State: 0.6398\n",
            "\n",
            "Time Step 3:\n",
            "  Forget Gate: 0.8269\n",
            "  Input Gate: 0.8730\n",
            "  Candidate Cell: 0.9798\n",
            "  Cell State: 1.6721\n",
            "  Output Gate: 0.9344\n",
            "  Hidden State: 0.8707\n",
            "\n",
            "Predicted Next Value: 3.4827\n"
          ]
        }
      ],
      "source": [
        "import numpy as np\n",
        "\n",
        "# Activation functions\n",
        "def sigmoid(x):\n",
        "    return 1 / (1 + np.exp(-x))\n",
        "\n",
        "def tanh(x):\n",
        "    return np.tanh(x)\n",
        "\n",
        "# LSTM Cell Function\n",
        "def lstm_forward(X, params):\n",
        "    \"\"\"Perform forward pass through an LSTM cell\"\"\"\n",
        "    W_f, W_hf, b_f = params[\"forget\"]\n",
        "    W_i, W_hi, b_i = params[\"input\"]\n",
        "    W_c, W_hc, b_c = params[\"cell\"]\n",
        "    W_o, W_ho, b_o = params[\"output\"]\n",
        "\n",
        "    h_prev, C_prev = 0, 0  # Initialize states\n",
        "    states = []\n",
        "\n",
        "    for t, x_t in enumerate(X, start=1):\n",
        "        f_t = sigmoid(W_f * x_t + W_hf * h_prev + b_f)  # Forget gate\n",
        "        i_t = sigmoid(W_i * x_t + W_hi * h_prev + b_i)   # Input gate\n",
        "        C_tilde_t = tanh(W_c * x_t + W_hc * h_prev + b_c) # Candidate cell state\n",
        "        C_t = f_t * C_prev + i_t * C_tilde_t  # Cell state update\n",
        "        o_t = sigmoid(W_o * x_t + W_ho * h_prev + b_o)  # Output gate\n",
        "        h_t = o_t * tanh(C_t)  # Hidden state update\n",
        "\n",
        "        states.append({\n",
        "            \"Forget Gate\": f_t, \"Input Gate\": i_t,\n",
        "            \"Candidate Cell\": C_tilde_t, \"Cell State\": C_t,\n",
        "            \"Output Gate\": o_t, \"Hidden State\": h_t\n",
        "        })\n",
        "\n",
        "        h_prev, C_prev = h_t, C_t  # Update states\n",
        "\n",
        "    return states, h_t\n",
        "\n",
        "# Define LSTM parameters\n",
        "lstm_params = {\n",
        "    \"forget\": (0.5, 0.1, 0),\n",
        "    \"input\": (0.6, 0.2, 0),\n",
        "    \"cell\": (0.7, 0.3, 0),\n",
        "    \"output\": (0.8, 0.4, 0)\n",
        "}\n",
        "\n",
        "# Input sequence\n",
        "X = [1, 2, 3]\n",
        "\n",
        "# Run LSTM\n",
        "states, last_hidden = lstm_forward(X, lstm_params)\n",
        "\n",
        "# Print outputs\n",
        "for t, state in enumerate(states, start=1):\n",
        "    print(f\"Time Step {t}:\")\n",
        "    for key, value in state.items():\n",
        "        print(f\"  {key}: {value:.4f}\")\n",
        "    print()\n",
        "\n",
        "# Predict the next value\n",
        "y_pred = 4 * last_hidden\n",
        "print(f\"Predicted Next Value: {y_pred:.4f}\")"
      ]
    }
  ]
}